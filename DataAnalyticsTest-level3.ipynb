{
 "cells": [
  {
   "cell_type": "markdown",
   "id": "9eec3119",
   "metadata": {},
   "source": [
    "# ST IT Cloud - Data and Analytics Test LV.3\n",
    "\n",
    "Esse teste deve avaliar a qualidade técnica na manipulacão de dados.\n",
    "\n",
    "## Passo a passo\n",
    "\n",
    "- Disponibilizamos aqui 1 case para ser solucionado, leia os enunciados dos problemas, desenvolva os programas, utilizando a **stack definida durante o processo seletivo**, para entregar os dados de acordo com os requisitos descritos abaixo.\n",
    "\n",
    "\n",
    "**Faz parte dos critérios de avaliacão a pontualidade da entrega. Implemente até onde for possível dentro do prazo acordado.**\n",
    "\n",
    "**Os dados de pessoas foram gerados de forma aleatória, utilizando a biblioteca FakerJS, FakerJS-BR e Faker**\n",
    "\n",
    "LEMBRE-SE: A entrega deve conter TODOS os passos para o avaliador executar o programa (keep it simple).\n"
   ]
  },
  {
   "cell_type": "markdown",
   "id": "1eb61f06",
   "metadata": {},
   "source": [
    "# TESTE PRÁTICO"
   ]
  },
  {
   "cell_type": "markdown",
   "id": "8ed8c6a5",
   "metadata": {},
   "source": [
    "**Problema**: Você está recebendo o arquivo 'dados_cadastrais_fake.csv' que contem dados cadastrais de clientes, mas para que análises ou relatórios sejam feitos é necessário limpar e normalizar os dados. Além disso, existe uma coluna com o número de cpf e outra com cnpj, você precisará padronizar deixando apenas dígitos em formato string (sem caracteres especiais), implementar uma forma de verificar se tais documentos são válidos sendo que a informação deve se adicionada ao dataframe em outras duas novas colunas.\n",
    "\n",
    "Após a normalização, gere reports que respondam as seguintes perguntas:\n",
    "- Quantos clientes temos nessa base?\n",
    "- Qual a média de idade dos clientes?\n",
    "- Quantos clientes nessa base pertencem a cada estado?\n",
    "- Quantos CPFs válidos e inválidos foram encontrados?\n",
    "- Quantos CNPJs válidos e inválidos foram encontrados?\n",
    "\n",
    "Ao final gere um arquivo no formato csv e um outro arquivo no formato parquet chamado (problema1_normalizado), eles serão destinados para pessoas distintas."
   ]
  },
  {
   "cell_type": "code",
   "execution_count": null,
   "id": "e28802e2",
   "metadata": {},
   "outputs": [],
   "source": [
    "## Importando as bibliotecas para serem utilizadas no teste prático\n",
    "import pandas as pd"
   ]
  },
  {
   "cell_type": "code",
   "execution_count": 33,
   "id": "1316f395",
   "metadata": {},
   "outputs": [],
   "source": [
    "## Criando DF através do CSV fornecido\n",
    "\n",
    "DadosCadastraisDF = pd.read_csv('dados_cadastrais_fake.csv', sep=';')"
   ]
  },
  {
   "cell_type": "code",
   "execution_count": 43,
   "id": "9be3cb6c",
   "metadata": {},
   "outputs": [
    {
     "name": "stderr",
     "output_type": "stream",
     "text": [
      "C:\\Users\\aland\\AppData\\Local\\Temp\\ipykernel_20968\\1512194836.py:3: FutureWarning: The default value of regex will change from True to False in a future version. In addition, single character regular expressions will *not* be treated as literal strings when regex=True.\n",
      "  DadosCadastraisDF['cpf'] = DadosCadastraisDF['cpf'].str.replace('.', '')\n",
      "C:\\Users\\aland\\AppData\\Local\\Temp\\ipykernel_20968\\1512194836.py:6: FutureWarning: The default value of regex will change from True to False in a future version. In addition, single character regular expressions will *not* be treated as literal strings when regex=True.\n",
      "  DadosCadastraisDF['cnpj'] = DadosCadastraisDF['cnpj'].str.replace('.', '')\n"
     ]
    }
   ],
   "source": [
    "## Removendo os caracteres especiais das colunas cpf e cnpj\n",
    "\n",
    "DadosCadastraisDF['cpf'] = DadosCadastraisDF['cpf'].str.replace('.', '')\n",
    "DadosCadastraisDF['cpf'] = DadosCadastraisDF['cpf'].str.replace('-', '').astype(str)\n",
    "DadosCadastraisDF['cnpj'] = DadosCadastraisDF['cnpj'].str.replace('/', '')\n",
    "DadosCadastraisDF['cnpj'] = DadosCadastraisDF['cnpj'].str.replace('.', '')\n",
    "DadosCadastraisDF['cnpj'] = DadosCadastraisDF['cnpj'].str.replace('-', '').astype(str)\n"
   ]
  }
 ],
 "metadata": {
  "interpreter": {
   "hash": "4ea5055a4d358ae01d0569eb58590e33da6646eb16d4bad7f0525a5bf59958d3"
  },
  "kernelspec": {
   "display_name": "Python 3.9.6 64-bit",
   "language": "python",
   "name": "python3"
  },
  "language_info": {
   "codemirror_mode": {
    "name": "ipython",
    "version": 3
   },
   "file_extension": ".py",
   "mimetype": "text/x-python",
   "name": "python",
   "nbconvert_exporter": "python",
   "pygments_lexer": "ipython3",
   "version": "3.9.6"
  }
 },
 "nbformat": 4,
 "nbformat_minor": 5
}
