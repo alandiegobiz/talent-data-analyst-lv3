{
 "cells": [
  {
   "cell_type": "markdown",
   "id": "9eec3119",
   "metadata": {},
   "source": [
    "# ST IT Cloud - Data and Analytics Test LV.3\n",
    "\n",
    "Esse teste deve avaliar a qualidade técnica na manipulacão de dados.\n",
    "\n",
    "## Passo a passo\n",
    "\n",
    "- Disponibilizamos aqui 1 case para ser solucionado, leia os enunciados dos problemas, desenvolva os programas, utilizando a **stack definida durante o processo seletivo**, para entregar os dados de acordo com os requisitos descritos abaixo.\n",
    "\n",
    "\n",
    "**Faz parte dos critérios de avaliacão a pontualidade da entrega. Implemente até onde for possível dentro do prazo acordado.**\n",
    "\n",
    "**Os dados de pessoas foram gerados de forma aleatória, utilizando a biblioteca FakerJS, FakerJS-BR e Faker**\n",
    "\n",
    "LEMBRE-SE: A entrega deve conter TODOS os passos para o avaliador executar o programa (keep it simple).\n"
   ]
  },
  {
   "cell_type": "markdown",
   "id": "1eb61f06",
   "metadata": {},
   "source": [
    "# TESTE PRÁTICO"
   ]
  },
  {
   "cell_type": "markdown",
   "id": "8ed8c6a5",
   "metadata": {},
   "source": [
    "**Problema**: Você está recebendo o arquivo 'dados_cadastrais_fake.csv' que contem dados cadastrais de clientes, mas para que análises ou relatórios sejam feitos é necessário limpar e normalizar os dados. Além disso, existe uma coluna com o número de cpf e outra com cnpj, você precisará padronizar deixando apenas dígitos em formato string (sem caracteres especiais), implementar uma forma de verificar se tais documentos são válidos sendo que a informação deve se adicionada ao dataframe em outras duas novas colunas.\n",
    "\n",
    "Após a normalização, gere reports que respondam as seguintes perguntas:\n",
    "- Quantos clientes temos nessa base?\n",
    "- Qual a média de idade dos clientes?\n",
    "- Quantos clientes nessa base pertencem a cada estado?\n",
    "- Quantos CPFs válidos e inválidos foram encontrados?\n",
    "- Quantos CNPJs válidos e inválidos foram encontrados?\n",
    "\n",
    "Ao final gere um arquivo no formato csv e um outro arquivo no formato parquet chamado (problema1_normalizado), eles serão destinados para pessoas distintas."
   ]
  },
  {
   "cell_type": "code",
   "execution_count": 3,
   "id": "e28802e2",
   "metadata": {},
   "outputs": [],
   "source": [
    "## Importando as bibliotecas para serem utilizadas no teste prático\n",
    "import pandas as pd\n",
    "import pandasql as ps\n",
    "from functions import validador_cpf, validador_cnpj"
   ]
  },
  {
   "cell_type": "code",
   "execution_count": 5,
   "id": "1316f395",
   "metadata": {},
   "outputs": [
    {
     "data": {
      "text/html": [
       "<div>\n",
       "<style scoped>\n",
       "    .dataframe tbody tr th:only-of-type {\n",
       "        vertical-align: middle;\n",
       "    }\n",
       "\n",
       "    .dataframe tbody tr th {\n",
       "        vertical-align: top;\n",
       "    }\n",
       "\n",
       "    .dataframe thead th {\n",
       "        text-align: right;\n",
       "    }\n",
       "</style>\n",
       "<table border=\"1\" class=\"dataframe\">\n",
       "  <thead>\n",
       "    <tr style=\"text-align: right;\">\n",
       "      <th></th>\n",
       "      <th>nomes</th>\n",
       "      <th>idade</th>\n",
       "      <th>cidade</th>\n",
       "      <th>estado</th>\n",
       "      <th>cpf</th>\n",
       "      <th>cnpj</th>\n",
       "    </tr>\n",
       "  </thead>\n",
       "  <tbody>\n",
       "    <tr>\n",
       "      <th>0</th>\n",
       "      <td>Dennis Daniels</td>\n",
       "      <td>31</td>\n",
       "      <td>ACRELÂNDIA</td>\n",
       "      <td>AC</td>\n",
       "      <td>97566536800</td>\n",
       "      <td>06589184909526</td>\n",
       "    </tr>\n",
       "    <tr>\n",
       "      <th>1</th>\n",
       "      <td>Leah Becker</td>\n",
       "      <td>42</td>\n",
       "      <td>ÁGUA BRANCA</td>\n",
       "      <td>AL</td>\n",
       "      <td>425.263.807-07</td>\n",
       "      <td>25.673.336/2350-20</td>\n",
       "    </tr>\n",
       "    <tr>\n",
       "      <th>2</th>\n",
       "      <td>Sally Ford</td>\n",
       "      <td>18</td>\n",
       "      <td>ALVARÃES</td>\n",
       "      <td>AM</td>\n",
       "      <td>34647754103</td>\n",
       "      <td>26543101702989</td>\n",
       "    </tr>\n",
       "    <tr>\n",
       "      <th>3</th>\n",
       "      <td>Colleen Duncan</td>\n",
       "      <td>21</td>\n",
       "      <td>SERRA DO NAVIO</td>\n",
       "      <td>AP</td>\n",
       "      <td>252.531.560-03</td>\n",
       "      <td>19.062.080/5100-98</td>\n",
       "    </tr>\n",
       "    <tr>\n",
       "      <th>4</th>\n",
       "      <td>Jeff Stephenson</td>\n",
       "      <td>73</td>\n",
       "      <td>ABAÍRA</td>\n",
       "      <td>BA</td>\n",
       "      <td>49668886542</td>\n",
       "      <td>97794530015384</td>\n",
       "    </tr>\n",
       "    <tr>\n",
       "      <th>...</th>\n",
       "      <td>...</td>\n",
       "      <td>...</td>\n",
       "      <td>...</td>\n",
       "      <td>...</td>\n",
       "      <td>...</td>\n",
       "      <td>...</td>\n",
       "    </tr>\n",
       "    <tr>\n",
       "      <th>9995</th>\n",
       "      <td>Rebekah Mitchell PhD</td>\n",
       "      <td>55</td>\n",
       "      <td>ABAIARA</td>\n",
       "      <td>CE</td>\n",
       "      <td>744.822.622-34</td>\n",
       "      <td>16.740.076/9329-75</td>\n",
       "    </tr>\n",
       "    <tr>\n",
       "      <th>9996</th>\n",
       "      <td>Lisa Parrish Jr.</td>\n",
       "      <td>73</td>\n",
       "      <td>Brasília</td>\n",
       "      <td>DF</td>\n",
       "      <td>10683395190</td>\n",
       "      <td>32246978843482</td>\n",
       "    </tr>\n",
       "    <tr>\n",
       "      <th>9997</th>\n",
       "      <td>Michael Young MD</td>\n",
       "      <td>87</td>\n",
       "      <td>AFONSO CLÁUDIO</td>\n",
       "      <td>ES</td>\n",
       "      <td>538.223.638-04</td>\n",
       "      <td>86.601.303/7580-88</td>\n",
       "    </tr>\n",
       "    <tr>\n",
       "      <th>9998</th>\n",
       "      <td>Kevin Watson DDS</td>\n",
       "      <td>82</td>\n",
       "      <td>ABADIA DE GOIÁS</td>\n",
       "      <td>GO</td>\n",
       "      <td>11632512408</td>\n",
       "      <td>08651414023648</td>\n",
       "    </tr>\n",
       "    <tr>\n",
       "      <th>9999</th>\n",
       "      <td>Mr. Joseph Wilson MD</td>\n",
       "      <td>50</td>\n",
       "      <td>AÇAILÂNDIA</td>\n",
       "      <td>MA</td>\n",
       "      <td>192.134.492-08</td>\n",
       "      <td>08.908.871/5161-91</td>\n",
       "    </tr>\n",
       "  </tbody>\n",
       "</table>\n",
       "<p>10000 rows × 6 columns</p>\n",
       "</div>"
      ],
      "text/plain": [
       "                     nomes  idade           cidade estado             cpf  \\\n",
       "0           Dennis Daniels     31       ACRELÂNDIA     AC     97566536800   \n",
       "1              Leah Becker     42      ÁGUA BRANCA     AL  425.263.807-07   \n",
       "2               Sally Ford     18         ALVARÃES     AM     34647754103   \n",
       "3           Colleen Duncan     21   SERRA DO NAVIO     AP  252.531.560-03   \n",
       "4          Jeff Stephenson     73           ABAÍRA     BA     49668886542   \n",
       "...                    ...    ...              ...    ...             ...   \n",
       "9995  Rebekah Mitchell PhD     55          ABAIARA     CE  744.822.622-34   \n",
       "9996      Lisa Parrish Jr.     73         Brasília     DF     10683395190   \n",
       "9997      Michael Young MD     87   AFONSO CLÁUDIO     ES  538.223.638-04   \n",
       "9998      Kevin Watson DDS     82  ABADIA DE GOIÁS     GO     11632512408   \n",
       "9999  Mr. Joseph Wilson MD     50       AÇAILÂNDIA     MA  192.134.492-08   \n",
       "\n",
       "                    cnpj  \n",
       "0         06589184909526  \n",
       "1     25.673.336/2350-20  \n",
       "2         26543101702989  \n",
       "3     19.062.080/5100-98  \n",
       "4         97794530015384  \n",
       "...                  ...  \n",
       "9995  16.740.076/9329-75  \n",
       "9996      32246978843482  \n",
       "9997  86.601.303/7580-88  \n",
       "9998      08651414023648  \n",
       "9999  08.908.871/5161-91  \n",
       "\n",
       "[10000 rows x 6 columns]"
      ]
     },
     "metadata": {},
     "output_type": "display_data"
    }
   ],
   "source": [
    "## Criando DF através do CSV fornecido\n",
    "\n",
    "DadosCadastraisDF = pd.read_csv('dados_cadastrais_fake.csv', sep=';')"
   ]
  },
  {
   "cell_type": "code",
   "execution_count": 6,
   "id": "7b234143",
   "metadata": {},
   "outputs": [],
   "source": [
    "## Normalização dos dados coluna 'nomes'\n",
    "\n",
    "DadosCadastraisDF['nomes'] = DadosCadastraisDF['nomes'].str.replace('Dr.', '', regex=True)\n",
    "DadosCadastraisDF['nomes'] = DadosCadastraisDF['nomes'].str.replace('Mr.', '', regex=True)\n",
    "DadosCadastraisDF['nomes'] = DadosCadastraisDF['nomes'].str.replace('Mrs.', '', regex=True)\n",
    "DadosCadastraisDF['nomes'] = DadosCadastraisDF['nomes'].str.replace('Ms.', '', regex=True)\n",
    "DadosCadastraisDF['nomes'] = DadosCadastraisDF['nomes'].str.replace('Miss', '', regex=True)\n",
    "DadosCadastraisDF['nomes'] = DadosCadastraisDF['nomes'].str.replace('MD', '', regex=True)\n",
    "DadosCadastraisDF['nomes'] = DadosCadastraisDF['nomes'].str.replace('PhD', '', regex=True)\n",
    "DadosCadastraisDF['nomes'] = DadosCadastraisDF['nomes'].str.replace('DDS', '', regex=True)\n",
    "DadosCadastraisDF['nomes'] = DadosCadastraisDF['nomes'].str.replace('DVM', '', regex=True)\n",
    "DadosCadastraisDF['nomes'] = DadosCadastraisDF['nomes'].str.replace('.', '', regex=True)\n",
    "\n"
   ]
  },
  {
   "cell_type": "code",
   "execution_count": 7,
   "id": "70d43305",
   "metadata": {},
   "outputs": [],
   "source": [
    "## Normalização dos dados coluna 'estado'\n",
    "\n",
    "DadosCadastraisDF['estado'] = DadosCadastraisDF['estado'].str.replace('distrito federal', 'DF', regex=True)\n",
    "DadosCadastraisDF['estado'] = DadosCadastraisDF['estado'].str.replace('sao  paulo', 'SP', regex=True)\n",
    "DadosCadastraisDF['estado'] = DadosCadastraisDF['estado'].str.replace('rio de  janeiro ', 'RJ', regex=True)\n",
    "DadosCadastraisDF['estado'] = DadosCadastraisDF['estado'].str.replace('MINAS GERAI', 'MG', regex=True)\n",
    "DadosCadastraisDF['estado'] = DadosCadastraisDF['estado'].str.replace('MINAS GERAIs', 'MG', regex=True)\n",
    "DadosCadastraisDF['estado'] = DadosCadastraisDF['estado'].str.replace('MGs', 'MG', regex=True)\n",
    "DadosCadastraisDF['estado'] = DadosCadastraisDF['estado'].str.replace('são  paulo', 'SP', regex=True)"
   ]
  },
  {
   "cell_type": "code",
   "execution_count": 8,
   "id": "9be3cb6c",
   "metadata": {},
   "outputs": [],
   "source": [
    "## Removendo os caracteres especiais das colunas cpf e cnpj\n",
    "\n",
    "DadosCadastraisDF['cpf'] = DadosCadastraisDF['cpf'].str.replace('.', '', regex=True)\n",
    "DadosCadastraisDF['cpf'] = DadosCadastraisDF['cpf'].str.replace('-', '', regex=True)\n",
    "DadosCadastraisDF['cnpj'] = DadosCadastraisDF['cnpj'].str.replace('/', '', regex=True)\n",
    "DadosCadastraisDF['cnpj'] = DadosCadastraisDF['cnpj'].str.replace('.', '', regex=True)\n",
    "DadosCadastraisDF['cnpj'] = DadosCadastraisDF['cnpj'].str.replace('-', '', regex=True)\n"
   ]
  },
  {
   "cell_type": "code",
   "execution_count": 16,
   "id": "71307428",
   "metadata": {},
   "outputs": [
    {
     "name": "stderr",
     "output_type": "stream",
     "text": [
      "C:\\Users\\aland\\AppData\\Local\\Temp\\ipykernel_8772\\3900002056.py:7: SettingWithCopyWarning: \n",
      "A value is trying to be set on a copy of a slice from a DataFrame\n",
      "\n",
      "See the caveats in the documentation: https://pandas.pydata.org/pandas-docs/stable/user_guide/indexing.html#returning-a-view-versus-a-copy\n",
      "  DadosCadastraisDF['cpf_valido'][i] = True\n",
      "C:\\Users\\aland\\AppData\\Local\\Temp\\ipykernel_8772\\3900002056.py:9: SettingWithCopyWarning: \n",
      "A value is trying to be set on a copy of a slice from a DataFrame\n",
      "\n",
      "See the caveats in the documentation: https://pandas.pydata.org/pandas-docs/stable/user_guide/indexing.html#returning-a-view-versus-a-copy\n",
      "  DadosCadastraisDF['cpf_valido'][i] = False\n",
      "C:\\Users\\aland\\AppData\\Local\\Temp\\ipykernel_8772\\3900002056.py:13: SettingWithCopyWarning: \n",
      "A value is trying to be set on a copy of a slice from a DataFrame\n",
      "\n",
      "See the caveats in the documentation: https://pandas.pydata.org/pandas-docs/stable/user_guide/indexing.html#returning-a-view-versus-a-copy\n",
      "  DadosCadastraisDF['cnpj_valido'][i] = True\n"
     ]
    }
   ],
   "source": [
    "## Criando as colunas para validar os dados de cpf e cnpj\n",
    "DadosCadastraisDF['cpf_valido'] = ''\n",
    "DadosCadastraisDF['cnpj_valido'] = ''\n",
    "\n",
    "for i, item in enumerate(DadosCadastraisDF['cpf']):\n",
    "    if validador_cpf(DadosCadastraisDF['cpf'][i]) == True:\n",
    "        DadosCadastraisDF['cpf_valido'][i] = True\n",
    "    else:\n",
    "        DadosCadastraisDF['cpf_valido'][i] = False\n",
    "\n",
    "for i, item in enumerate(DadosCadastraisDF['cnpj']):\n",
    "    if validador_cnpj(DadosCadastraisDF['cnpj'][i]) == True:\n",
    "        DadosCadastraisDF['cnpj_valido'][i] = True\n",
    "    else:\n",
    "        DadosCadastraisDF['cnpj_valido'][i] = False"
   ]
  },
  {
   "cell_type": "code",
   "execution_count": 25,
   "id": "e5ff4216",
   "metadata": {},
   "outputs": [
    {
     "name": "stdout",
     "output_type": "stream",
     "text": [
      "Temos um total de 10000 clientes, cadastrados nessa base!\n"
     ]
    }
   ],
   "source": [
    "## Quantos clientes temos na nessa base?\n",
    "\n",
    "Total = DadosCadastraisDF['nomes'].count()\n",
    "print(f'Temos um total de {Total} clientes, cadastrados nessa base!')"
   ]
  },
  {
   "cell_type": "code",
   "execution_count": 29,
   "id": "34c347bf",
   "metadata": {},
   "outputs": [
    {
     "name": "stdout",
     "output_type": "stream",
     "text": [
      "A idade média dos clientes é 53.78\n"
     ]
    }
   ],
   "source": [
    "## Qual a média de idade dos clientes?\n",
    "\n",
    "Media = DadosCadastraisDF['idade'].mean()\n",
    "print(f'A idade média dos clientes é {Media:.2f}')"
   ]
  },
  {
   "cell_type": "code",
   "execution_count": 38,
   "id": "978631a9",
   "metadata": {},
   "outputs": [
    {
     "name": "stdout",
     "output_type": "stream",
     "text": [
      "   estado  total_clientes\n",
      "0      AC             371\n",
      "1      AL             371\n",
      "2      AM             371\n",
      "3      AP             371\n",
      "4      BA             371\n",
      "5      CE             371\n",
      "6      DF             371\n",
      "7      ES             371\n",
      "8      GO             371\n",
      "9      MA             371\n",
      "10     MG             370\n",
      "11     MS             370\n",
      "12     MT             370\n",
      "13     PA             370\n",
      "14     PB             370\n",
      "15     PE             370\n",
      "16     PI             370\n",
      "17     PR             370\n",
      "18     RJ             370\n",
      "19     RN             370\n",
      "20     RO             370\n",
      "21     RR             370\n",
      "22     RS             370\n",
      "23     SC             370\n",
      "24     SE             370\n",
      "25     SP             370\n",
      "26     TO             370\n"
     ]
    }
   ],
   "source": [
    "## Qual a quantidade de clientes por estado?\n",
    "\n",
    "query = \"\"\"SELECT estado, count(*) as total_clientes FROM DadosCadastraisDF GROUP BY estado\"\"\"\n",
    "\n",
    "print(ps.sqldf(query,locals()))"
   ]
  },
  {
   "cell_type": "code",
   "execution_count": 40,
   "id": "21a8235e",
   "metadata": {},
   "outputs": [
    {
     "name": "stdout",
     "output_type": "stream",
     "text": [
      "   cpf_valido  total_clientes\n",
      "0           0               1\n",
      "1           1            9999\n"
     ]
    }
   ],
   "source": [
    "## Qual a quantidade de clientes com cpf válidos?\n",
    "\n",
    "query1 = \"\"\"SELECT cpf_valido, count(*) as total_clientes FROM DadosCadastraisDF GROUP BY cpf_valido\"\"\"\n",
    "\n",
    "print(ps.sqldf(query1,locals()))"
   ]
  },
  {
   "cell_type": "code",
   "execution_count": 41,
   "id": "7896bd80",
   "metadata": {},
   "outputs": [
    {
     "name": "stdout",
     "output_type": "stream",
     "text": [
      "   cnpj_valido  total_clientes\n",
      "0            1           10000\n"
     ]
    }
   ],
   "source": [
    "## Qual a quantidade de clientes com cnpj válidos?\n",
    "\n",
    "query2 = \"\"\"SELECT cnpj_valido, count(*) as total_clientes FROM DadosCadastraisDF GROUP BY cnpj_valido\"\"\"\n",
    "\n",
    "print(ps.sqldf(query2,locals()))"
   ]
  },
  {
   "cell_type": "code",
   "execution_count": 47,
   "id": "c3433ed0",
   "metadata": {},
   "outputs": [],
   "source": [
    "## Salvando o resultado em csv e parquet\n",
    "\n",
    "DadosCadastraisDF.to_parquet(\n",
    "    'problema1_normalizado.parquet',\n",
    "    engine='pyarrow'\n",
    "    )\n",
    "\n",
    "DadosCadastraisDF.to_csv(\n",
    "    'problema1_normalizado.csv',\n",
    "    sep=';'\n",
    ")"
   ]
  }
 ],
 "metadata": {
  "interpreter": {
   "hash": "4ea5055a4d358ae01d0569eb58590e33da6646eb16d4bad7f0525a5bf59958d3"
  },
  "kernelspec": {
   "display_name": "Python 3.9.6 64-bit",
   "language": "python",
   "name": "python3"
  },
  "language_info": {
   "codemirror_mode": {
    "name": "ipython",
    "version": 3
   },
   "file_extension": ".py",
   "mimetype": "text/x-python",
   "name": "python",
   "nbconvert_exporter": "python",
   "pygments_lexer": "ipython3",
   "version": "3.9.6"
  }
 },
 "nbformat": 4,
 "nbformat_minor": 5
}
